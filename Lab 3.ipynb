{
 "cells": [
  {
   "cell_type": "code",
   "execution_count": null,
   "id": "0cc5006c-d177-4e0e-b60f-c42cb4b44e2c",
   "metadata": {},
   "outputs": [],
   "source": [
    "s=\"Sahasra\"\n",
    "for x in s :\n",
    " print(x)"
   ]
  },
  {
   "cell_type": "code",
   "execution_count": null,
   "id": "ccfe62e3-5992-442b-94bf-9cb076b62147",
   "metadata": {},
   "outputs": [],
   "source": []
  }
 ],
 "metadata": {
  "kernelspec": {
   "display_name": "",
   "name": ""
  },
  "language_info": {
   "name": ""
  }
 },
 "nbformat": 4,
 "nbformat_minor": 5
}
