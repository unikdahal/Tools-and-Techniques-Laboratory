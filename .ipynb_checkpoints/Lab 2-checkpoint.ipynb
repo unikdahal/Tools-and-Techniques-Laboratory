{
 "cells": [
  {
   "cell_type": "code",
   "execution_count": 2,
   "id": "f91b4e72-c96f-42d4-aaff-4c6c49be3b23",
   "metadata": {
    "tags": []
   },
   "outputs": [
    {
     "name": "stdout",
     "output_type": "stream",
     "text": [
      "10 is less than 20\n",
      "End of the program\n"
     ]
    }
   ],
   "source": [
    "if(10<20):\n",
    "    print(\"10 is less than 20\")\n",
    "print(\"End of the program\")"
   ]
  },
  {
   "cell_type": "code",
   "execution_count": 4,
   "id": "03bebb73-2c26-4072-8168-6455a8f2c4e7",
   "metadata": {
    "tags": []
   },
   "outputs": [
    {
     "ename": "IndentationError",
     "evalue": "expected an indented block after 'if' statement on line 1 (679798912.py, line 2)",
     "output_type": "error",
     "traceback": [
      "\u001b[0;36m  Cell \u001b[0;32mIn[4], line 2\u001b[0;36m\u001b[0m\n\u001b[0;31m    print(\"10 is less than 20\")\u001b[0m\n\u001b[0m    ^\u001b[0m\n\u001b[0;31mIndentationError\u001b[0m\u001b[0;31m:\u001b[0m expected an indented block after 'if' statement on line 1\n"
     ]
    }
   ],
   "source": [
    "if 10<20:\n",
    "print(\"10 is less than 20\")\n",
    "print(\"End of the program\")"
   ]
  },
  {
   "cell_type": "code",
   "execution_count": 5,
   "id": "afabc796-fcac-4cb9-aa36-382ea738b50f",
   "metadata": {
    "tags": []
   },
   "outputs": [
    {
     "name": "stdin",
     "output_type": "stream",
     "text": [
      "Enter name: Unik\n"
     ]
    },
    {
     "name": "stdout",
     "output_type": "stream",
     "text": [
      "Hello Unik Good Morning\n",
      "How are you\n"
     ]
    }
   ],
   "source": [
    "name= input(\"Enter name:\")\n",
    "if(name == \"Unik\"):\n",
    "    print(\"Hello Unik Good Morning\")\n",
    "print(\"How are you\")"
   ]
  },
  {
   "cell_type": "code",
   "execution_count": 6,
   "id": "e40b91cd-e75d-47e8-89e4-847931cdaaa1",
   "metadata": {
    "tags": []
   },
   "outputs": [
    {
     "name": "stdin",
     "output_type": "stream",
     "text": [
      "Enter name: hey\n"
     ]
    },
    {
     "name": "stdout",
     "output_type": "stream",
     "text": [
      "How are you\n"
     ]
    }
   ],
   "source": [
    "name= input(\"Enter name:\")\n",
    "if(name == \"Unik\"):\n",
    "    print(\"Hello Unik Good Morning\")\n",
    "print(\"How are you\")"
   ]
  },
  {
   "cell_type": "code",
   "execution_count": 15,
   "id": "73c51ec8-0ca2-43dd-b4e4-0a70daa5ef74",
   "metadata": {
    "tags": []
   },
   "outputs": [
    {
     "name": "stdin",
     "output_type": "stream",
     "text": [
      "Enter name: unik\n"
     ]
    },
    {
     "name": "stdout",
     "output_type": "stream",
     "text": [
      "Hello Guest! Good  Morning\n",
      "How are you\n"
     ]
    }
   ],
   "source": [
    "name= input(\"Enter name:\")\n",
    "if(name == \"Unik\"):\n",
    "    print(\"Hello Unik Good Morning\")\n",
    "else:\n",
    "    print(\"Hello Guest! Good  Morning\")\n",
    "print(\"How are you\")"
   ]
  },
  {
   "cell_type": "code",
   "execution_count": null,
   "id": "aa4b0a89-398b-4205-9d6a-644bad88c437",
   "metadata": {},
   "outputs": [],
   "source": [
    "# Program to find biggest of given 2 numbers \n",
    "\n",
    "a=int(input(\"Enter first number\"))\n",
    "b=int(input(\"Enter second number\"))\n",
    "if(a>b):\n",
    "      print(a,\" is the largest\")\n",
    "elif(b>a):\n",
    "      print(b,\" is the largest\")\n",
    "else:\n",
    "      print(\"Both are equal\")\n",
    "      "
   ]
  },
  {
   "cell_type": "code",
   "execution_count": 17,
   "id": "e03a16e4-ca0c-4955-a6c4-76ff5fd68ce7",
   "metadata": {
    "tags": []
   },
   "outputs": [
    {
     "name": "stdin",
     "output_type": "stream",
     "text": [
      "Enter first number 12\n",
      "Enter second number 13\n",
      "Enter the third number 14\n"
     ]
    },
    {
     "name": "stdout",
     "output_type": "stream",
     "text": [
      "14  is the largest\n"
     ]
    }
   ],
   "source": [
    "#program to find biggest of 3 numbers\n",
    "a=int(input(\"Enter first number\"))\n",
    "b=int(input(\"Enter second number\"))\n",
    "c=int(input(\"Enter the third number\"))\n",
    "if(a>b and b>c):\n",
    "      print(a,\" is the largest\")\n",
    "elif(b>a and b>c):\n",
    "      print(b,\" is the largest\")\n",
    "else:\n",
    "      print(c,\" is the largest\")"
   ]
  },
  {
   "cell_type": "code",
   "execution_count": 21,
   "id": "f48d84e8-ce7b-417c-9e83-bf321a645fb5",
   "metadata": {
    "tags": []
   },
   "outputs": [
    {
     "name": "stdin",
     "output_type": "stream",
     "text": [
      "Enter first number 12\n",
      "Enter second number 13\n",
      "Enter the third number 14\n"
     ]
    },
    {
     "name": "stdout",
     "output_type": "stream",
     "text": [
      "12  is the smallest\n"
     ]
    }
   ],
   "source": [
    "#program to find smallest of 3 numbers\n",
    "a=int(input(\"Enter first number\"))\n",
    "b=int(input(\"Enter second number\"))\n",
    "c=int(input(\"Enter the third number\"))\n",
    "if(a<b and a<c):\n",
    "      print(a,\" is the smallest\")\n",
    "elif(b<a and b<c):\n",
    "      print(b,\" is the smallest\")\n",
    "else:\n",
    "      print(c,\" is the smallest\")"
   ]
  },
  {
   "cell_type": "code",
   "execution_count": 25,
   "id": "0a9ec64a-c3e1-418c-a969-bf1927f1fb48",
   "metadata": {
    "tags": []
   },
   "outputs": [
    {
     "name": "stdin",
     "output_type": "stream",
     "text": [
      "Enter first number 12\n"
     ]
    },
    {
     "name": "stdout",
     "output_type": "stream",
     "text": [
      "Even\n"
     ]
    }
   ],
   "source": [
    "#To check even or odd\n",
    "\n",
    "a=int(input(\"Enter first number\"))\n",
    "\n",
    "if(a % 2==0):\n",
    "    print(\"Even\")\n",
    "else:\n",
    "    print(\"Odd\")"
   ]
  },
  {
   "cell_type": "code",
   "execution_count": 27,
   "id": "f9e5509e-d29f-4906-8732-a6c448854ea6",
   "metadata": {
    "tags": []
   },
   "outputs": [
    {
     "name": "stdin",
     "output_type": "stream",
     "text": [
      "Enter first number 2\n"
     ]
    },
    {
     "name": "stdout",
     "output_type": "stream",
     "text": [
      "True\n"
     ]
    }
   ],
   "source": [
    "# to check between 1 & 100\n",
    "\n",
    "a=int(input(\"Enter first number\"))\n",
    "\n",
    "if(a>1 and a<100):\n",
    "    print(\"True\")\n",
    "else: \n",
    "    print(\"False\")\n"
   ]
  },
  {
   "cell_type": "code",
   "execution_count": 34,
   "id": "dad61a88-a405-4277-8a67-efd90ecf869d",
   "metadata": {
    "tags": []
   },
   "outputs": [
    {
     "name": "stdin",
     "output_type": "stream",
     "text": [
      "Enter the number 12312312123\n"
     ]
    },
    {
     "name": "stdout",
     "output_type": "stream",
     "text": [
      "One\n",
      "Two\n",
      "Three\n",
      "One\n",
      "Two\n",
      "Three\n",
      "One\n",
      "Two\n",
      "One\n",
      "Two\n",
      "Three\n"
     ]
    }
   ],
   "source": [
    "#Digit to word\n",
    "\n",
    "# to check between 1 & 100\n",
    "\n",
    "def printValue(digit):\n",
    "    if(digit==0):\n",
    "        print(\"Zero\")\n",
    "    elif(digit==1):\n",
    "        print(\"One\")\n",
    "    elif(digit==2):\n",
    "        print(\"Two\")\n",
    "    elif(digit==3):\n",
    "        print(\"Three\")\n",
    "    elif(digit==4):\n",
    "        print(\"Four\")\n",
    "    elif(digit==5):\n",
    "        print(\"Five\")\n",
    "    elif(digit==6):\n",
    "        print(\"Six\")\n",
    "    elif(digit==7):\n",
    "        print(\"Seven\")\n",
    "    elif(digit==8):\n",
    "        print(\"Eight\")\n",
    "    elif(digit==9):\n",
    "        print(\"Nine\")\n",
    "\n",
    "a=input(\"Enter the number\")\n",
    "l= len(a)\n",
    "i=0\n",
    "\n",
    "while(i<l):\n",
    "    printValue(int(a[i]))\n",
    "    i+=1\n",
    "\n",
    "\n",
    "\n"
   ]
  },
  {
   "cell_type": "code",
   "execution_count": 35,
   "id": "0ade45f4-5121-4ccf-909b-c77f36b0c3d7",
   "metadata": {},
   "outputs": [
    {
     "name": "stdin",
     "output_type": "stream",
     "text": [
      "Enter the year 300\n"
     ]
    },
    {
     "name": "stdout",
     "output_type": "stream",
     "text": [
      "Not a Leap Year\n"
     ]
    }
   ],
   "source": [
    "#Leap year or not \n",
    "\n",
    "a=int(input(\"Enter the year\"))\n",
    "\n",
    "if(a%4==0):\n",
    "    if(a%100==0):\n",
    "        if(a%400==0):\n",
    "            print(\"Leap Year\")\n",
    "        else: \n",
    "            print(\"Not a Leap Year\")\n",
    "    else:\n",
    "        print(\"Leap Year\")\n",
    "    \n",
    "else:\n",
    "    print(\"Not a Leap year\");\n",
    "\n"
   ]
  },
  {
   "cell_type": "code",
   "execution_count": 36,
   "id": "517cf05a-2c95-470e-b281-69f40965c73e",
   "metadata": {
    "tags": []
   },
   "outputs": [
    {
     "name": "stdin",
     "output_type": "stream",
     "text": [
      "Enter the word in lowercase unik\n"
     ]
    },
    {
     "name": "stdout",
     "output_type": "stream",
     "text": [
      "UNIK\n"
     ]
    }
   ],
   "source": [
    "#Lowercase to uppercase\n",
    "\n",
    "a=input(\"Enter the word in lowercase\")\n",
    "\n",
    "print(a.upper())\n"
   ]
  },
  {
   "cell_type": "code",
   "execution_count": 37,
   "id": "3d8cf336-595b-402a-97d6-9c5c5dad3836",
   "metadata": {
    "tags": []
   },
   "outputs": [
    {
     "name": "stdin",
     "output_type": "stream",
     "text": [
      "Enter the percentage 60\n"
     ]
    },
    {
     "name": "stdout",
     "output_type": "stream",
     "text": [
      "Grade C\n"
     ]
    }
   ],
   "source": [
    "a=int(input(\"Enter the percentage\"))\n",
    "\n",
    "if(a>90):\n",
    "    print(\"Grade A\")\n",
    "elif(a>80):\n",
    "    print(\"Grade B\")\n",
    "elif(a>=60):\n",
    "    print(\"Grade C\")\n",
    "else:\n",
    "    print(\"Grade D\")"
   ]
  },
  {
   "cell_type": "code",
   "execution_count": 40,
   "id": "6a27ead9-a850-4a4c-884b-d52bfb6b81af",
   "metadata": {
    "tags": []
   },
   "outputs": [
    {
     "name": "stdin",
     "output_type": "stream",
     "text": [
      "Enter the cost of bike 12123\n"
     ]
    },
    {
     "name": "stdout",
     "output_type": "stream",
     "text": [
      "Tax is  606.15\n"
     ]
    }
   ],
   "source": [
    "#Road Tax\n",
    "a=int(input(\"Enter the cost of bike\"))\n",
    "if(a>100000):\n",
    "    tax=0.15*a;\n",
    "elif(a>50000):\n",
    "    tax=0.1*a;\n",
    "else:\n",
    "    tax=0.05*a;\n",
    "\n",
    "print(\"Tax is \",tax)"
   ]
  },
  {
   "cell_type": "code",
   "execution_count": 41,
   "id": "1f2c29e3-d9d9-4c7c-9bc5-321173370211",
   "metadata": {
    "tags": []
   },
   "outputs": [
    {
     "name": "stdin",
     "output_type": "stream",
     "text": [
      "Enter the number 121\n"
     ]
    },
    {
     "name": "stdout",
     "output_type": "stream",
     "text": [
      "True\n"
     ]
    }
   ],
   "source": [
    "#Three Digit number or not\n",
    "\n",
    "a=input(\"Enter the number\")\n",
    "if(len(a)==3):\n",
    "    print(\"True\")\n",
    "else:\n",
    "    print(\"False\")\n"
   ]
  },
  {
   "cell_type": "code",
   "execution_count": 43,
   "id": "ef18b934-bf76-4297-ab7a-84da5bb814d0",
   "metadata": {
    "tags": []
   },
   "outputs": [
    {
     "name": "stdin",
     "output_type": "stream",
     "text": [
      "Enter the month in number 11\n"
     ]
    },
    {
     "name": "stdout",
     "output_type": "stream",
     "text": [
      "November: \n",
      " No of Days 30\n"
     ]
    }
   ],
   "source": [
    "#display the month \n",
    "\n",
    "a= int(input(\"Enter the month in number\"))\n",
    "    \n",
    "if(a==1):\n",
    "       print(\"January:\\n No of Days 31\")\n",
    "elif(a==2):\n",
    "       print(\"February: \\n No of Days 28\")\n",
    "elif(a==3):\n",
    "       print(\"March: \\n No of Days 31\")\n",
    "elif(a==4):\n",
    "       print(\"April: \\n No of Days 30\")\n",
    "elif(a==5):\n",
    "       print(\"May: \\n No of Days 31\")\n",
    "elif(a==6):\n",
    "       print(\"June: \\n No of Days 30\")\n",
    "elif(a==7):\n",
    "       print(\"July: \\n No of Days 31\")\n",
    "elif(a==8):\n",
    "       print(\"August: \\n No of Days 31\")\n",
    "elif(a==9):\n",
    "       print(\"September: \\n No of Days 30\")\n",
    "elif(a==10):\n",
    "       print(\"October: \\n No of Days 31\")\n",
    "elif(a==11):\n",
    "       print(\"November: \\n No of Days 30\")\n",
    "else:\n",
    "       print(\"December: \\n No of Days 31\")"
   ]
  },
  {
   "cell_type": "code",
   "execution_count": 45,
   "id": "c800350d-879e-4977-9216-4ee6bd231826",
   "metadata": {
    "tags": []
   },
   "outputs": [
    {
     "name": "stdin",
     "output_type": "stream",
     "text": [
      "Enter your year of service 2\n",
      "Enter your salary 12312\n"
     ]
    },
    {
     "name": "stdout",
     "output_type": "stream",
     "text": [
      "Net bonus amount  is  0\n"
     ]
    }
   ],
   "source": [
    "yos= int(input(\"Enter your year of service\"))\n",
    "salary=int(input(\"Enter your salary\"))\n",
    "bonus=0;\n",
    "if(yos>5):\n",
    "    bonus=0.05*salary;\n",
    "    \n",
    "print(\"Net bonus amount  is \",bonus)"
   ]
  },
  {
   "cell_type": "code",
   "execution_count": 46,
   "id": "99ecc88a-3bc7-44d3-a507-5181a758f8da",
   "metadata": {
    "tags": []
   },
   "outputs": [
    {
     "name": "stdin",
     "output_type": "stream",
     "text": [
      "Enter the length of rectangle 3\n",
      "Enter the breadth of rectangle 3\n"
     ]
    },
    {
     "name": "stdout",
     "output_type": "stream",
     "text": [
      "Square\n"
     ]
    }
   ],
   "source": [
    "a= float(input(\"Enter the length of rectangle\"))\n",
    "b= float(input(\"Enter the breadth of rectangle\"))\n",
    "\n",
    "if(a==b):\n",
    "    print(\"Square\")\n",
    "else: \n",
    "    print(\"Rectangle\")"
   ]
  },
  {
   "cell_type": "code",
   "execution_count": null,
   "id": "6ccd7dd2-036c-4e79-86af-7923736d0d38",
   "metadata": {},
   "outputs": [],
   "source": [
    "a= int(input(\"Enter the purchase quantity\"))\n",
    "cost = a*100\n",
    "if(a>1000):\n",
    "    cost= cost-0.1*cost;\n",
    "\n",
    "print(\"total cost is %d\".f\n"
   ]
  }
 ],
 "metadata": {
  "kernelspec": {
   "display_name": "Python 3 (ipykernel)",
   "language": "python",
   "name": "python3"
  },
  "language_info": {
   "codemirror_mode": {
    "name": "ipython",
    "version": 3
   },
   "file_extension": ".py",
   "mimetype": "text/x-python",
   "name": "python",
   "nbconvert_exporter": "python",
   "pygments_lexer": "ipython3",
   "version": "3.11.5"
  }
 },
 "nbformat": 4,
 "nbformat_minor": 5
}
